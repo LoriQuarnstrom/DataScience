{
    "cells": [
        {
            "cell_type": "markdown",
            "metadata": {
                "collapsed": true
            },
            "source": "# My Jupyter Notebook on IBM Data Science Experience"
        },
        {
            "cell_type": "markdown",
            "metadata": {},
            "source": "**Lori Quarnstrom**           \nBusiness Analyst and Aspiring Data Scientist"
        },
        {
            "cell_type": "markdown",
            "metadata": {},
            "source": "*I am interested in Data Science because many of the projects I do are lacking in metrics for measurements such as Key Performance Indicators that quantify the value of the solution.  Applying data science to our projects can help clients get more from technology solutions.*"
        },
        {
            "cell_type": "markdown",
            "metadata": {},
            "source": "### Cell 5 contains Python code that asks the user for a name, then greets the user.  This code can be found at https://wiki.python.org/moin/SimplePrograms."
        },
        {
            "cell_type": "markdown",
            "metadata": {},
            "source": "The Python code only shows the results.  Here is the code:  \nname = input('What is your name?\\n')\nprint ('Hi, %s.' % name)"
        },
        {
            "cell_type": "code",
            "execution_count": 2,
            "metadata": {},
            "outputs": [
                {
                    "name": "stdout",
                    "output_type": "stream",
                    "text": "What is your name?\nOzzie\nHi, Ozzie.\n"
                }
            ],
            "source": "name = input('What is your name?\\n')\nprint ('Hi, %s.' % name)"
        },
        {
            "cell_type": "markdown",
            "metadata": {},
            "source": "## Examples of Markdown Formatting\n\n**Bulleted List**\n* Another\n* Use\n* for \n* Asterisks\n* is\n* Unordered\n* List!\n\n\n\n\n"
        },
        {
            "cell_type": "markdown",
            "metadata": {},
            "source": "**Horizontal Rule**"
        },
        {
            "cell_type": "markdown",
            "metadata": {},
            "source": "---"
        },
        {
            "cell_type": "markdown",
            "metadata": {},
            "source": "~This is an example of strikethrough text.  Unfortunately, the strikethrough doesn't appear on the GitHub published project.~"
        },
        {
            "cell_type": "markdown",
            "metadata": {},
            "source": "[This is an example of a hypertext link to CNN.com](https://www.cnn.com)"
        }
    ],
    "metadata": {
        "kernelspec": {
            "display_name": "Python 3.6",
            "language": "python",
            "name": "python3"
        },
        "language_info": {
            "codemirror_mode": {
                "name": "ipython",
                "version": 3
            },
            "file_extension": ".py",
            "mimetype": "text/x-python",
            "name": "python",
            "nbconvert_exporter": "python",
            "pygments_lexer": "ipython3",
            "version": "3.6.8"
        }
    },
    "nbformat": 4,
    "nbformat_minor": 1
}